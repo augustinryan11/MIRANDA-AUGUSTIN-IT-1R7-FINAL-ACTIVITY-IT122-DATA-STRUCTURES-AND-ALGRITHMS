{
 "cells": [
  {
   "cell_type": "code",
   "execution_count": 1,
   "id": "noted-employer",
   "metadata": {},
   "outputs": [
    {
     "name": "stdout",
     "output_type": "stream",
     "text": [
      "Discuss your learnings on from Chapter 9 to Chapter 17\n",
      "\n",
      "Chapter 9 Learnings:\n",
      "I learned that graph is pictorial representation of a set of objects where some pairs are connected. It allows you to pair some links. It can use in real-life situation that can use to represent networks that networks path in the city or Telephone also social network like LinkedIn, Facebook of what I see in the video that each node is a structure and contain information like person, I’d, gender, location. It is important to use graph to allow to widen your knowledge. It is good to have use graph from doings that can connect to each other. Also, I learned that graph has three of kind: Undirect, Direct and Weighted Graph.\n"
     ]
    }
   ],
   "source": [
    "print(\"Discuss your learnings on from Chapter 9 to Chapter 17\")\n",
    "print(\"\")\n",
    "print(\"Chapter 9 Learnings:\")\n",
    "print(\"I learned that graph is pictorial representation of a set of objects where some pairs are connected. It allows you to pair some links. It can use in real-life situation that can use to represent networks that networks path in the city or Telephone also social network like LinkedIn, Facebook of what I see in the video that each node is a structure and contain information like person, I’d, gender, location. It is important to use graph to allow to widen your knowledge. It is good to have use graph from doings that can connect to each other. Also, I learned that graph has three of kind: Undirect, Direct and Weighted Graph.\")"
   ]
  },
  {
   "cell_type": "code",
   "execution_count": 2,
   "id": "affecting-detection",
   "metadata": {},
   "outputs": [
    {
     "name": "stdout",
     "output_type": "stream",
     "text": [
      "Chapter 10 Learnings:\n",
      "\n",
      "I learned that binary search is like mathematics but different because binary is start from to 0 also, I learn binary search is a fast search algorithm with run-time complexity 0(long-n). A binary looks like a particular comparing the middle most item of the collection it allows, your search something to comparing them then when the index item is returned. That middle item is greater than the item. So that we know to the process that on the sub-array it continues until the size become zero. We can use binary search find height and who is the tallest student, we use it also in dictionary to search the meaning of specific meaning you want to search that binary allows you to find the problem easily. I learn also binary is searched sorted array by repeatedly dividing the search interval in half.\n"
     ]
    }
   ],
   "source": [
    "print(\"Chapter 10 Learnings:\")\n",
    "print(\"\")\n",
    "print(\"I learned that binary search is like mathematics but different because binary is start from to 0 also, I learn binary search is a fast search algorithm with run-time complexity 0(long-n). A binary looks like a particular comparing the middle most item of the collection it allows, your search something to comparing them then when the index item is returned. That middle item is greater than the item. So that we know to the process that on the sub-array it continues until the size become zero. We can use binary search find height and who is the tallest student, we use it also in dictionary to search the meaning of specific meaning you want to search that binary allows you to find the problem easily. I learn also binary is searched sorted array by repeatedly dividing the search interval in half.\")"
   ]
  },
  {
   "cell_type": "code",
   "execution_count": 3,
   "id": "fitting-niagara",
   "metadata": {},
   "outputs": [
    {
     "name": "stdout",
     "output_type": "stream",
     "text": [
      "Chapter 11 Learnings:\n",
      "\n",
      "I learn that bubble Sort is the simplest sorting algorithm that works by repeatedly that swapping the adjacent element if they are in wrong order. Has complexity are of O(n²) where n is the number of items. Bubble Sort start with very first two elements, comparing them to check which one is greater. What really important is to know what bubble Sort use for because it can develop your critical thinking by using bubble Sort in real life situation. \n"
     ]
    }
   ],
   "source": [
    "print(\"Chapter 11 Learnings:\")\n",
    "print(\"\")\n",
    "print(\"I learn that bubble Sort is the simplest sorting algorithm that works by repeatedly that swapping the adjacent element if they are in wrong order. Has complexity are of O(n²) where n is the number of items. Bubble Sort start with very first two elements, comparing them to check which one is greater. What really important is to know what bubble Sort use for because it can develop your critical thinking by using bubble Sort in real life situation. \")"
   ]
  },
  {
   "cell_type": "code",
   "execution_count": 4,
   "id": "democratic-chocolate",
   "metadata": {},
   "outputs": [
    {
     "name": "stdout",
     "output_type": "stream",
     "text": [
      "Chapter 12 Learnings:\n",
      "\n",
      "I learn that quick sort a highly efficient sorting algorithm and is based on portioning of array data into smaller array. Also, quick sort is used to separate the smallest or largest elements. Quick sort also is fastest sorting in algorithm, that quick sort is create two element arrays to hold element less than the pivot element and has greater than pivot and recursively. What good of quick it also uses in real life situation for example commercial computing, Information search so many things use quick sort in daily doings so that quick sort also important to use people.\n"
     ]
    }
   ],
   "source": [
    "print(\"Chapter 12 Learnings:\")\n",
    "print(\"\")\n",
    "print(\"I learn that quick sort a highly efficient sorting algorithm and is based on portioning of array data into smaller array. Also, quick sort is used to separate the smallest or largest elements. Quick sort also is fastest sorting in algorithm, that quick sort is create two element arrays to hold element less than the pivot element and has greater than pivot and recursively. What good of quick it also uses in real life situation for example commercial computing, Information search so many things use quick sort in daily doings so that quick sort also important to use people.\")"
   ]
  },
  {
   "cell_type": "code",
   "execution_count": 5,
   "id": "headed-sheet",
   "metadata": {},
   "outputs": [
    {
     "name": "stdout",
     "output_type": "stream",
     "text": [
      "Chapter 13 Learnings:\n",
      "\n",
      "I learn that insert sort is a simple sorting algorithm that works similar to that way you sort. That array is virtually split into a sorted and unsorted part that values form unsorted are picked and placed to the correct position in the sorted-part. That array element is compared with each other sequentially and then arranged simultaneously in some particular order. We can also use insertion in our Daily doings it allows you to arrange something for example a playing cards that you can arrange it smallest to highest card you want. That insertion is adapting sorting technique.\n"
     ]
    }
   ],
   "source": [
    "print(\"Chapter 13 Learnings:\")\n",
    "print(\"\")\n",
    "print(\"I learn that insert sort is a simple sorting algorithm that works similar to that way you sort. That array is virtually split into a sorted and unsorted part that values form unsorted are picked and placed to the correct position in the sorted-part. That array element is compared with each other sequentially and then arranged simultaneously in some particular order. We can also use insertion in our Daily doings it allows you to arrange something for example a playing cards that you can arrange it smallest to highest card you want. That insertion is adapting sorting technique.\")"
   ]
  },
  {
   "cell_type": "code",
   "execution_count": 6,
   "id": "blank-albania",
   "metadata": {},
   "outputs": [
    {
     "name": "stdout",
     "output_type": "stream",
     "text": [
      "Chapter 14 Learnings:\n",
      "\n",
      "I learn that merge sort algorithm is a sorting technique based on divide and conquer technique with worst case time. Merge sort divides the array into equal them combines them into a sorted manner. Also, the most efficient sorting algorithm. That merge sort repeatedly breaks down a list into several sub-list until each sub-list consists of a single element that merging those sub-lists in a manner that result into sorted list. The merge () function is that use for merging two halves. We can also used merge sort in mathematics that allows you to use number or house or work.\n"
     ]
    }
   ],
   "source": [
    "print(\"Chapter 14 Learnings:\")\n",
    "print(\"\")\n",
    "print(\"I learn that merge sort algorithm is a sorting technique based on divide and conquer technique with worst case time. Merge sort divides the array into equal them combines them into a sorted manner. Also, the most efficient sorting algorithm. That merge sort repeatedly breaks down a list into several sub-list until each sub-list consists of a single element that merging those sub-lists in a manner that result into sorted list. The merge () function is that use for merging two halves. We can also used merge sort in mathematics that allows you to use number or house or work.\")"
   ]
  },
  {
   "cell_type": "code",
   "execution_count": 7,
   "id": "motivated-duration",
   "metadata": {},
   "outputs": [
    {
     "name": "stdout",
     "output_type": "stream",
     "text": [
      "Chapter 15 Learnings:\n",
      "\n",
      "I learn that she’ll sort is a highly efficient sorting algorithm that is based on insertion so that they have similarities in algorithm. That she’ll sort allow exchange far items. That she’ll short, we make array h-sorted. That she’ll sort elements at a specific interval are sorted. A shell sort is that permits the exchange of elements located far from each other’s. So that she’ll sort use to exchange value from far. \n"
     ]
    }
   ],
   "source": [
    "print(\"Chapter 15 Learnings:\")\n",
    "print(\"\")\n",
    "print(\"I learn that she’ll sort is a highly efficient sorting algorithm that is based on insertion so that they have similarities in algorithm. That she’ll sort allow exchange far items. That she’ll short, we make array h-sorted. That she’ll sort elements at a specific interval are sorted. A shell sort is that permits the exchange of elements located far from each other’s. So that she’ll sort use to exchange value from far. \")"
   ]
  },
  {
   "cell_type": "code",
   "execution_count": 8,
   "id": "imposed-joint",
   "metadata": {},
   "outputs": [
    {
     "name": "stdout",
     "output_type": "stream",
     "text": [
      "Chapter 16 Learnings:\n",
      "\n",
      "I learned that selection sort is simple sorting which place comparison-based algorithm in which the list is divided into two parts at the left end and the unsorted part at the right end. That smallest element is selected from the unsorted array and swapped with left most element and the element become a part of sorted array. Selection sort can be good at checking if everything is already. It also good to use when memory space is limited. It is important because sorting can often reduce the complexity of a problem.\n"
     ]
    }
   ],
   "source": [
    "print(\"Chapter 16 Learnings:\")\n",
    "print(\"\")\n",
    "print(\"I learned that selection sort is simple sorting which place comparison-based algorithm in which the list is divided into two parts at the left end and the unsorted part at the right end. That smallest element is selected from the unsorted array and swapped with left most element and the element become a part of sorted array. Selection sort can be good at checking if everything is already. It also good to use when memory space is limited. It is important because sorting can often reduce the complexity of a problem.\")"
   ]
  },
  {
   "cell_type": "code",
   "execution_count": 12,
   "id": "established-electric",
   "metadata": {},
   "outputs": [
    {
     "name": "stdout",
     "output_type": "stream",
     "text": [
      "Chapter 17 Learnings:\n",
      "\n",
      "I learned that process in which a function calls itself directly or indirectly is called recursion and the corresponding function is called as recursive function. Using recursive algorithm, certain problems can be solved quite easily. recursive program, the solution to the base case is provided and the solution of the bigger problem is expressed in terms of smaller problems. Recursion means defining a problem in terms of itself.This can be a very powerful tool in writing algorithms.  That recursion is a method of solving a problem where the solution depends on solutions to smaller instances of the same problem. Recursion is made for solving problems that can be broken down into smaller, repetitive problems. It is especially good for working on things that have many possible branches and are too complex for an iterative approach.\n"
     ]
    }
   ],
   "source": [
    "print(\"Chapter 17 Learnings:\")\n",
    "print(\"\")\n",
    "print(\"I learned that process in which a function calls itself directly or indirectly is called recursion and the corresponding function is called as recursive function. Using recursive algorithm, certain problems can be solved quite easily. recursive program, the solution to the base case is provided and the solution of the bigger problem is expressed in terms of smaller problems. Recursion means defining a problem in terms of itself.This can be a very powerful tool in writing algorithms.  That recursion is a method of solving a problem where the solution depends on solutions to smaller instances of the same problem. Recursion is made for solving problems that can be broken down into smaller, repetitive problems. It is especially good for working on things that have many possible branches and are too complex for an iterative approach.\")"
   ]
  },
  {
   "cell_type": "code",
   "execution_count": 13,
   "id": "revolutionary-guidance",
   "metadata": {},
   "outputs": [
    {
     "name": "stdout",
     "output_type": "stream",
     "text": [
      "II. Answer the following questions:\n"
     ]
    }
   ],
   "source": [
    "print(\"II. Answer the following questions:\")\n"
   ]
  },
  {
   "cell_type": "code",
   "execution_count": 14,
   "id": "fifth-honolulu",
   "metadata": {},
   "outputs": [
    {
     "name": "stdout",
     "output_type": "stream",
     "text": [
      "Implement the simple methods get_num and get_den that will return the numerator and denominator of a fraction.\n",
      "\n",
      "Numerator:  12\n",
      "Denominator:  8\n"
     ]
    }
   ],
   "source": [
    "print(\"Implement the simple methods get_num and get_den that will return the numerator and denominator of a fraction.\")\n",
    "print(\"\")\n",
    "def get_num(num1):\n",
    "    return num1\n",
    "def get_den(den1):\n",
    "    return den1\n",
    "\n",
    "num = 12\n",
    "den = 8\n",
    "\n",
    "print(\"Numerator: \",get_num(num))\n",
    "print(\"Denominator: \",get_den(den))"
   ]
  },
  {
   "cell_type": "code",
   "execution_count": 15,
   "id": "controlled-alberta",
   "metadata": {},
   "outputs": [
    {
     "name": "stdout",
     "output_type": "stream",
     "text": [
      "Research the __radd__ method. How does it differ from __add__? When is it used? Implement __radd__\n",
      "\n",
      "__add__ is to take an input string and then return an instance which contains the data and concatenate it while __radd__ adds the string first then the user-defined class comes next to it.\n",
      "\n",
      "<__main__.Upper object at 0x00000161487D8640>\n"
     ]
    }
   ],
   "source": [
    "print(\"Research the __radd__ method. How does it differ from __add__? When is it used? Implement __radd__\")\n",
    "print(\"\")\n",
    "\n",
    "print(\"__add__ is to take an input string and then return an instance which contains the data and concatenate it while __radd__ adds the string first then the user-defined class comes next to it.\")\n",
    "print(\"\")\n",
    "class Upper:\n",
    "    def __init__(self, initial):\n",
    "        self.data = initial.upper()\n",
    "    def __add__(self,other):\n",
    "        return Upper(self.data + other)\n",
    "\n",
    "u = Upper('Nani')\n",
    "\n",
    "a = u+\"Who knows\" \n",
    "\n",
    "print(a)"
   ]
  },
  {
   "cell_type": "code",
   "execution_count": 16,
   "id": "hidden-cologne",
   "metadata": {},
   "outputs": [
    {
     "name": "stdout",
     "output_type": "stream",
     "text": [
      "Research the __repr__ method. How does it differ from __str__? When is it used? Implement __repr__.\n",
      "\n",
      " __repr__ is a special method used to represent a class's objects as a string while  __str__ method is called when the following functions are invoked on the object and return a string\n",
      "\n",
      "Instance Name of class User\n"
     ]
    }
   ],
   "source": [
    "print(\"Research the __repr__ method. How does it differ from __str__? When is it used? Implement __repr__.\")\n",
    "print(\"\")\n",
    "print(\" __repr__ is a special method used to represent a class's objects as a string while  __str__ method is called when the following functions are invoked on the object and return a string\")\n",
    "print(\"\")\n",
    "class User:\n",
    "    def __init__(self, name):\n",
    "        self.username = name\n",
    "    def __repr__(self):\n",
    "        return 'Instance {} of class User'.format(self.username)\n",
    "\n",
    "lp = User('Name')\n",
    "\n",
    "print(lp)"
   ]
  },
  {
   "cell_type": "code",
   "execution_count": 17,
   "id": "satisfied-parks",
   "metadata": {},
   "outputs": [
    {
     "name": "stdout",
     "output_type": "stream",
     "text": [
      "The most simple arithmetic circuit is known as the half adder. Research the simple half-adder circuit. Implement this circuit.\n",
      "\n",
      "The SUM is:   34\n",
      "CARRY is:     88\n"
     ]
    }
   ],
   "source": [
    "print(\"The most simple arithmetic circuit is known as the half adder. Research the simple half-adder circuit. Implement this circuit.\")\n",
    "print(\"\")\n",
    "def getResult(X, Y):\n",
    "\tSum = X ^ Y\n",
    "\tCarry = X & Y\n",
    "\tprint(\"The SUM is:  \", Sum)\n",
    "\tprint(\"CARRY is:    \", Carry)\n",
    "\n",
    "X = 120\n",
    "Y = 90\n",
    "getResult(X, Y)"
   ]
  },
  {
   "cell_type": "code",
   "execution_count": 18,
   "id": "surprised-convergence",
   "metadata": {},
   "outputs": [
    {
     "name": "stdout",
     "output_type": "stream",
     "text": [
      "Design a class to represent a playing card and another one to represent a deck of cards. Using these two classes, implement your favorite card game.\n",
      "\n"
     ]
    }
   ],
   "source": [
    "print(\"Design a class to represent a playing card and another one to represent a deck of cards. Using these two classes, implement your favorite card game.\")\n",
    "print(\"\")\n",
    "class Card(object):\n",
    "    \"\"\" Represents a standard playing card.\n",
    "    Attributes:\n",
    "        suit: Integer 0-3\n",
    "        rank: Integer 1-13\n",
    "    \"\"\"\n",
    "\n",
    "    suit_names = [\"Clubs\", \"Diamonds\", \"Hearts\", \"Spades\"]\n",
    "    rank_names = [None, \"2\", \"3\", \"4\", \"5\", \"6\", \"7\", \"8\",\n",
    "                  \"9\", \"10\", \"Jack\", \"Queen\", \"King\", \"Ace\"]\n",
    "\n",
    "    def __init__(self, suit=0, rank=1):\n",
    "        self.suit = suit\n",
    "        self.rank = rank\n",
    "\n",
    "    def __str__(self):\n",
    "        \"\"\" returns a human readable string representation \"\"\"\n",
    "        return '%s of %s' % (Card.rank_names[self.rank],\n",
    "                             Card.suit_names[self.suit])\n",
    "\n",
    "    def __lt__(self, other):\n",
    "        \"\"\" Compares this card to other, only by rank (no suit comparison)\n",
    "        Returns a positive number if this > other, negative otherwise.\n",
    "        Returns 0 if the cards are of same rank\n",
    "        \"\"\"\n",
    "        # t1 = self.rank\n",
    "        # t2 = other.rank\n",
    "        t1 = self.suit, self.rank\n",
    "        t2 = other.suit, other.rank\n",
    "        return t1 < t2\n",
    "\n",
    "    def getRank(self):\n",
    "        return self.rank"
   ]
  },
  {
   "cell_type": "code",
   "execution_count": 20,
   "id": "soviet-structure",
   "metadata": {},
   "outputs": [
    {
     "name": "stdout",
     "output_type": "stream",
     "text": [
      "Design and implement an experiment to do benchmark comparisons of the two queue(enqueue,dequeue) implementations. What can you learn from such an experiment?\n",
      "\n",
      "<__main__.Queue object at 0x000001614972FBB0>\n",
      "deque(['James', 'William', 'Meriam'])\n",
      "Adding to the right: \n",
      "deque(['James', 'William', 'Meriam', 'Gin'])\n",
      "Adding to the left: \n",
      "deque(['Freddie', 'James', 'William', 'Meriam', 'Gin'])\n",
      "Removing from the right: \n",
      "deque(['Freddie', 'James', 'William', 'Meriam'])\n",
      "Removing from the left: \n",
      "deque(['James', 'William', 'Meriam'])\n",
      "Reversing the deque: \n",
      "deque(['Meriam', 'William', 'James'])\n"
     ]
    }
   ],
   "source": [
    "print(\"Design and implement an experiment to do benchmark comparisons of the two queue(enqueue,dequeue) implementations. What can you learn from such an experiment?\")\n",
    "print(\"\")\n",
    "class Queue:\n",
    " \n",
    "  def __init__(self):\n",
    "      self.queue = list()\n",
    " \n",
    "  def addToQueue(self,value):\n",
    "# Insert method to add element\n",
    "      if value not in self.queue:\n",
    "          self.queue.insert(0,value)\n",
    "          return True\n",
    "      return False\n",
    " \n",
    "  def size(self):\n",
    "      return len(self.queue)\n",
    " \n",
    "MyFavoriteArtist = Queue()\n",
    "MyFavoriteArtist.addToQueue(\"Jim Carry\")\n",
    "MyFavoriteArtist.addToQueue(\"Chris Hemsworth\")\n",
    "MyFavoriteArtist.addToQueue(\"Enrique Gil\")\n",
    "MyFavoriteArtist.addToQueue(\"Liza Soberano\")\n",
    "MyFavoriteArtist.addToQueue(\"Takeruh Satoh\")\n",
    "print(MyFavoriteArtist)\n",
    "\n",
    "import collections\n",
    " \n",
    "# Create a deque\n",
    "DoubleEnded = collections.deque([\"James\",\"William\",\"Meriam\"])\n",
    "print (DoubleEnded)\n",
    " \n",
    "# Append to the right\n",
    "print(\"Adding to the right: \")\n",
    "DoubleEnded.append(\"Gin\")\n",
    "print (DoubleEnded)\n",
    " \n",
    "# append to the left\n",
    "print(\"Adding to the left: \")\n",
    "DoubleEnded.appendleft(\"Freddie\")\n",
    "print (DoubleEnded)\n",
    " \n",
    "# Remove from the right\n",
    "print(\"Removing from the right: \")\n",
    "DoubleEnded.pop()\n",
    "print (DoubleEnded)\n",
    " \n",
    "# Remove from the left\n",
    "print(\"Removing from the left: \")\n",
    "DoubleEnded.popleft()\n",
    "print (DoubleEnded)\n",
    " \n",
    "# Reverse the dequeue\n",
    "print(\"Reversing the deque: \")\n",
    "DoubleEnded.reverse()\n",
    "print (DoubleEnded)"
   ]
  },
  {
   "cell_type": "code",
   "execution_count": 21,
   "id": "hired-bookmark",
   "metadata": {},
   "outputs": [
    {
     "name": "stdout",
     "output_type": "stream",
     "text": [
      "Consider a real life situation. Formulate a question and then design a simulation that can help to answer it.\n",
      "\n",
      "Scarring. How to minimize road incidents?\n",
      "• Avoid injuries. Taking precautions to avoid injuries can help prevent wounds that might scar.\n",
      "• Treat injuries immediately. \n",
      "• Keep your injury clean\n",
      "• Use petroleum jelly\n",
      "• Cover your wound\n",
      "• Discipline to your body\n"
     ]
    }
   ],
   "source": [
    "print(\"Consider a real life situation. Formulate a question and then design a simulation that can help to answer it.\")\n",
    "print(\"\")\n",
    "print(\"Scarring. How to minimize road incidents?\")\n",
    "print(\"• Avoid injuries. Taking precautions to avoid injuries can help prevent wounds that might scar.\")\n",
    "print(\"• Treat injuries immediately. \")\n",
    "print(\"• Keep your injury clean\")\n",
    "print(\"• Use petroleum jelly\")\n",
    "print(\"• Cover your wound\")\n",
    "print(\"• Discipline to your body\")"
   ]
  },
  {
   "cell_type": "code",
   "execution_count": 22,
   "id": "actual-strategy",
   "metadata": {},
   "outputs": [
    {
     "name": "stdout",
     "output_type": "stream",
     "text": [
      "Implement a queue using linked lists.\n",
      "\n",
      "['Augustin', 'Miranda', 'Abiera', 'Augustin']\n",
      "Augustin\n",
      "['Miranda', 'Abiera', 'Augustin']\n",
      "Miranda\n",
      "['Abiera', 'Augustin']\n"
     ]
    }
   ],
   "source": [
    "print(\"Implement a queue using linked lists.\")\n",
    "print(\"\")\n",
    "queue = [\"Augustin\", \"Miranda\"]\n",
    "queue.append(\"Abiera\")\n",
    "queue.append(\"Augustin\")\n",
    "print(queue)\n",
    "  \n",
    "# Removes the first item\n",
    "print(queue.pop(0))\n",
    "  \n",
    "print(queue)\n",
    "  \n",
    "# Removes the first item\n",
    "print(queue.pop(0))\n",
    "  \n",
    "print(queue)"
   ]
  },
  {
   "cell_type": "code",
   "execution_count": 23,
   "id": "given-disease",
   "metadata": {},
   "outputs": [
    {
     "name": "stdout",
     "output_type": "stream",
     "text": [
      "Write a recursive function to compute the factorial of a number.\n",
      "\n",
      "The factorial of 11 is 39916800\n"
     ]
    }
   ],
   "source": [
    "print(\"Write a recursive function to compute the factorial of a number.\")\n",
    "print(\"\")\n",
    "\n",
    "def recur_factorial(n):\n",
    "   if n == 1:\n",
    "       return n\n",
    "   else:\n",
    "       return n*recur_factorial(n-1)\n",
    "\n",
    "num = 11\n",
    "\n",
    "\n",
    "print(\"The factorial of\", num, \"is\", recur_factorial(num))"
   ]
  },
  {
   "cell_type": "code",
   "execution_count": 24,
   "id": "annoying-boring",
   "metadata": {},
   "outputs": [
    {
     "name": "stdout",
     "output_type": "stream",
     "text": [
      "Set up a random experiment to test the difference between a sequential search and a binary search on a list of integers.\n",
      "\n",
      "Element is present at index 3\n",
      "(True, 3)\n"
     ]
    }
   ],
   "source": [
    "print(\"Set up a random experiment to test the difference between a sequential search and a binary search on a list of integers.\")\n",
    "print(\"\")\n",
    "def binary_search(arr, low, high, x):\n",
    " \n",
    "    # Check base case\n",
    "    if high >= low:\n",
    " \n",
    "        mid = (high + low) // 2\n",
    " \n",
    "        # If element is present at the middle itself\n",
    "        if arr[mid] == x:\n",
    "            return mid\n",
    " \n",
    "        # If element is smaller than mid, then it can only\n",
    "        # be present in left subarray\n",
    "        elif arr[mid] > x:\n",
    "            return binary_search(arr, low, mid - 1, x)\n",
    " \n",
    "        # Else the element can only be present in right subarray\n",
    "        else:\n",
    "            return binary_search(arr, mid + 1, high, x)\n",
    " \n",
    "    else:\n",
    "        # Element is not present in the array\n",
    "        return -1\n",
    " \n",
    "# Test array\n",
    "arr = [ 2, 3, 4, 10, 40 ]\n",
    "x = 10\n",
    " \n",
    "# Function call\n",
    "result = binary_search(arr, 0, len(arr)-1, x)\n",
    " \n",
    "if result != -1:\n",
    "    print(\"Element is present at index\", str(result))\n",
    "else:\n",
    "    print(\"Element is not present in array\")\n",
    "\n",
    "\n",
    "def Sequential_Search(dlist, item):\n",
    "\n",
    "    pos = 0\n",
    "    found = False\n",
    "    \n",
    "    while pos < len(dlist) and not found:\n",
    "        if dlist[pos] == item:\n",
    "            found = True\n",
    "        else:\n",
    "            pos = pos + 1\n",
    "    \n",
    "    return found, pos\n",
    "\n",
    "print(Sequential_Search([11,23,58,31,56,77,43,12,65,19],31))"
   ]
  },
  {
   "cell_type": "code",
   "execution_count": 25,
   "id": "sharing-librarian",
   "metadata": {},
   "outputs": [
    {
     "name": "stdout",
     "output_type": "stream",
     "text": [
      "Suppose you are a computer scientist/art thief who has broken into a major art gallery. All you have with you to haul out your stolen art is your knapsack which only holds W pounds of art, but for every piece of art you know its value and its weight. Write a dynamic programming function to help you maximize your profit. Here is a sample problem for you to use to get started: Suppose your knapsack can hold a total weight of 20. \n",
      "\n",
      "8\n"
     ]
    }
   ],
   "source": [
    "print(\"Suppose you are a computer scientist/art thief who has broken into a major art gallery. All you have with you to haul out your stolen art is your knapsack which only holds W pounds of art, but for every piece of art you know its value and its weight. Write a dynamic programming function to help you maximize your profit. Here is a sample problem for you to use to get started: Suppose your knapsack can hold a total weight of 20. \")\n",
    "print(\"\")\n",
    "def knapSack(W, wt, val, n):\n",
    "\n",
    "\t# Base Case\n",
    "\tif n == 0 or W == 0:\n",
    "\t\treturn 0\n",
    "\n",
    "\t# If weight of the nth item is\n",
    "\t# more than Knapsack of capacity W,\n",
    "\t# then this item cannot be included\n",
    "\t# in the optimal solution\n",
    "\tif (wt[n-1] > W):\n",
    "\t\treturn knapSack(W, wt, val, n-1)\n",
    "\n",
    "\t# return the maximum of two cases:\n",
    "\t# (1) nth item included\n",
    "\t# (2) not included\n",
    "\telse:\n",
    "\t\treturn max(\n",
    "\t\t\tval[n-1] + knapSack(\n",
    "\t\t\t\tW-wt[n-1], wt, val, n-1),\n",
    "\t\t\tknapSack(W, wt, val, n-1))\n",
    "\n",
    "# end of function knapSack\n",
    "\n",
    "\n",
    "#Driver Code\n",
    "val = [3, 4, 8,8,10]\n",
    "wt = [2, 3, 4,5,9]\n",
    "W = 5\n",
    "n = len(val)\n",
    "print (knapSack(W, wt, val, n))\n",
    "\n",
    "# This code is contributed by Nikhil Kumar Singh\n"
   ]
  },
  {
   "cell_type": "code",
   "execution_count": null,
   "id": "postal-repeat",
   "metadata": {},
   "outputs": [],
   "source": []
  }
 ],
 "metadata": {
  "kernelspec": {
   "display_name": "Python 3",
   "language": "python",
   "name": "python3"
  },
  "language_info": {
   "codemirror_mode": {
    "name": "ipython",
    "version": 3
   },
   "file_extension": ".py",
   "mimetype": "text/x-python",
   "name": "python",
   "nbconvert_exporter": "python",
   "pygments_lexer": "ipython3",
   "version": "3.9.5"
  }
 },
 "nbformat": 4,
 "nbformat_minor": 5
}
